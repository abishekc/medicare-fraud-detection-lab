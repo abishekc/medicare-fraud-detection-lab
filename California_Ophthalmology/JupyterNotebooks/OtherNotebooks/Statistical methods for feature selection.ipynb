{
 "cells": [
  {
   "cell_type": "code",
   "execution_count": 1,
   "metadata": {},
   "outputs": [],
   "source": [
    "import numpy as np\n",
    "import pandas as pd\n",
    "import matplotlib.pyplot as plt"
   ]
  },
  {
   "cell_type": "code",
   "execution_count": 3,
   "metadata": {},
   "outputs": [],
   "source": [
    "## Reading the merged, pivoted datasets\n",
    "data_merged_MP = pd.read_csv('data_merged_MP.csv', index_col=0)\n",
    "data_merged_NoS = pd.read_csv('data_merged_NoS.csv', index_col=0)\n",
    "data_merged_Ratio = pd.read_csv('data_merged_Ratio.csv', index_col=0)"
   ]
  },
  {
   "cell_type": "code",
   "execution_count": 15,
   "metadata": {},
   "outputs": [],
   "source": [
    "## Labels\n",
    "\n",
    "fraud_database = pd.read_csv('../Labels/CA_Ophthalmology/Fraud_Database.csv', index_col=0)\n",
    "high_utilization_database = pd.read_csv('../Labels/CA_Ophthalmology/HighUtilization_Database.csv', index_col=0)\n",
    "non_fraud_database = pd.read_csv('../Labels/CA_Ophthalmology/NonFraud_Database.csv', index_col=0)\n",
    "mislabeled_database = pd.read_csv('../Labels/CA_Ophthalmology/Mislabeled_Database.csv', index_col=0)\n",
    "\n",
    "fraud = list(fraud_database.index)\n",
    "high_utilization = list(high_utilization_database.index)\n",
    "non_fraud = list(non_fraud_database.index)\n",
    "mislabeled = list(mislabeled_database.index)\n",
    "\n",
    "data_merged = [data_merged_MP.copy(), data_merged_NoS.copy(), data_merged_Ratio.copy()]\n",
    "\n",
    "## Dropping the mislabeled providers from the datasets\n",
    "for i in range(len(data_merged)):\n",
    "    data_merged[i] = data_merged[i].drop(index=mislabeled)\n",
    "\n",
    "flag = pd.Series(data=['unlabeled'] * len(data_merged[0].index), index=data_merged[0].index, dtype='str', name='flag')\n",
    "for npi in non_fraud:\n",
    "     flag.at[npi] = 'non-fraudulent'\n",
    "for npi in high_utilization:\n",
    "    flag.at[npi] = 'high utilization'\n",
    "for npi in fraud:\n",
    "    flag.at[npi] = 'fraudulent'\n",
    "    \n",
    "[x_MP, x_NoS, x_Ratio] = data_merged\n",
    "x_MP_train, x_MP_unlabeled = x_MP.loc[flag != 'unlabeled'], x_MP.loc[flag == 'unlabeled']\n",
    "x_NoS_train, x_NoS_unlabeled = x_NoS.loc[flag != 'unlabeled'], x_NoS.loc[flag == 'unlabeled']\n",
    "x_Ratio_train, x_Ratio_unlabeled = x_Ratio.loc[flag != 'unlabeled'], x_Ratio.loc[flag == 'unlabeled']\n",
    "\n",
    "y_train = flag[flag != 'unlabeled']"
   ]
  },
  {
   "cell_type": "code",
   "execution_count": 101,
   "metadata": {},
   "outputs": [],
   "source": [
    "from scipy.stats import ttest_ind\n",
    "from collections import defaultdict\n",
    "\n",
    "significant = defaultdict(int)\n",
    "\n",
    "for dataset in data_merged:\n",
    "    pvalues = {}\n",
    "    for f in dataset.columns:\n",
    "        group1 = dataset.loc[flag == 'fraudulent', f]\n",
    "        group2 = dataset.loc[flag == 'non-fraudulent', f]\n",
    "        val = ttest_ind(group1.values, group2.values)[1]\n",
    "        if str(val) != 'nan' :\n",
    "            pvalues[f] = val\n",
    "            \n",
    "    p = 0.1/len(dataset.columns)\n",
    "\n",
    "    for f in pvalues:\n",
    "        if pvalues[f] < p:\n",
    "            significant[f] += 1"
   ]
  },
  {
   "cell_type": "code",
   "execution_count": 106,
   "metadata": {
    "scrolled": true
   },
   "outputs": [
    {
     "name": "stdout",
     "output_type": "stream",
     "text": [
      "['0191T', '65222', '65222', '65855', '65855', '65855', '65855', '66710', '66761', '66761', '66761', '66761', '66761', '66761', '68761', '76514', '76514', '76514', '76514', '76514', '76514', '76514', '92020', '92020', '92020', '92020', '92020', '92020', '92020', '92025', '92025', '92025', '92083', '92083', '92083', '92083', '92083', '92083', '92083', '92100', '92100', '92100', '92100', '92100', '92100', '92100', '92133', '92275', '92275', '92275', '92275', '92275', '92286', '95004', '95004', '95930', '95930', '95930', '95930', '95930', '95930', '99205', '99205', '99214', '99215', '99215', '99215', '68761', '68761', '68761', '68761', '68761', '99215', '65820', '65855', '65855', '67700', '67700', '67961', '76513', '92025', '92025', '92132', '92285', '92286', '95004', '95004', '99215', '99215', '99215']\n"
     ]
    }
   ],
   "source": [
    "used_codes = ['14061', '65800', '65855', '67973', '67975', '68326', '68335', '76510', '76511', '76512', \n",
    "              '76513', '92060', '92100', '92235', '92240', '92275', '92284', '95004', '95930', '65100', \n",
    "              '65210', '65222', '65400', '65426', '65722', '65815', '66030', '66175', '66183', '66761', \n",
    "              '66982', '67938', '68761', '68801', '76514', '92020', '92025', '92065', '92083', '92140', \n",
    "              '92225', '92226', '92250', '92286', '99354', '99201', '99202', '99203', '99204', '99205',\n",
    "              '99211', '99212', '99213', '99214', '99215', '99221', '99222', '99223', '99231', '99232', \n",
    "              '99233', '99241', '99242', '99243', '99244', '99245', '99251', '99252', '99253', '99254', \n",
    "              '99255', '99281', '99282', '99283', '99284', '99285', '99304', '99305', '99306', '99307', \n",
    "              '99308', '99309', '99310']\n",
    "\n",
    "significant_codes = [i[:5] for i in significant.keys()]\n",
    "print(significant_codes)"
   ]
  },
  {
   "cell_type": "code",
   "execution_count": 107,
   "metadata": {},
   "outputs": [
    {
     "name": "stdout",
     "output_type": "stream",
     "text": [
      "proportion of codes used to generate labels : 0.68\n"
     ]
    }
   ],
   "source": [
    "print(\"proportion of codes used to generate labels :\", len(set(used_codes).intersection(set(signficant_codes)))/len(set(signficant_codes)))"
   ]
  },
  {
   "cell_type": "code",
   "execution_count": 110,
   "metadata": {},
   "outputs": [
    {
     "name": "stdout",
     "output_type": "stream",
     "text": [
      "New codes not yet used in generating labels\n",
      "{'0191T', '66710', '92133', '92132', '92285', '67700', '67961', '65820'}\n"
     ]
    }
   ],
   "source": [
    "print(\"New codes not yet used in generating labels\")\n",
    "print(set(signficant_codes) - set(used_codes))"
   ]
  },
  {
   "cell_type": "code",
   "execution_count": null,
   "metadata": {},
   "outputs": [],
   "source": []
  }
 ],
 "metadata": {
  "kernelspec": {
   "display_name": "Python 3",
   "language": "python",
   "name": "python3"
  },
  "language_info": {
   "codemirror_mode": {
    "name": "ipython",
    "version": 3
   },
   "file_extension": ".py",
   "mimetype": "text/x-python",
   "name": "python",
   "nbconvert_exporter": "python",
   "pygments_lexer": "ipython3",
   "version": "3.7.4"
  }
 },
 "nbformat": 4,
 "nbformat_minor": 4
}
