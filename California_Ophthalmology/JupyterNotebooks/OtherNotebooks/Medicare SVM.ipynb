{
 "cells": [
  {
   "cell_type": "code",
   "execution_count": 2,
   "metadata": {},
   "outputs": [],
   "source": [
    "import pandas as pd\n",
    "import numpy as np\n",
    "import sklearn.svm as svm\n",
    "import matplotlib.pyplot as plt"
   ]
  },
  {
   "cell_type": "code",
   "execution_count": 4,
   "metadata": {},
   "outputs": [],
   "source": [
    "df = pd.read_csv(\"Autoencoder 2017 Dataset.csv\")\n",
    "df = df[df[\"Fraud\"].notnull()].copy()\n",
    "df = df.fillna(0)\n",
    "\n",
    "df2 = df.iloc[:-5,:].copy()\n",
    "df2 = df2.iloc[20:,:].copy()\n",
    "X = df2.iloc[:,1:].copy()\n",
    "y = df2.iloc[:,0]\n",
    "validation_set_neg = df.iloc[:20,1:].copy()\n",
    "validation_set_pos = df.iloc[-5:,1:].copy()"
   ]
  },
  {
   "cell_type": "code",
   "execution_count": 6,
   "metadata": {},
   "outputs": [
    {
     "name": "stdout",
     "output_type": "stream",
     "text": [
      "0.0 0.0\n"
     ]
    }
   ],
   "source": [
    "pres = []\n",
    "recall = []\n",
    "for i in np.arange(0.0001, 0.01, 0.0001):\n",
    "    model = svm.SVC(C = i, class_weight = \"balanced\", gamma = 'scale')\n",
    "    model.fit(X, y)\n",
    "    pred_n = model.predict(validation_set_neg)\n",
    "    pred_p = model.predict(validation_set_pos)\n",
    "    if sum(pred_p) + sum(pred_n) > 0:\n",
    "        pres.append(sum(pred_p)/(sum(pred_p) + sum(pred_n)))\n",
    "        recall.append(sum(pred_p)/len(pred_p))\n",
    "total = [pres[i] + recall[i] for i in range(len(pres))]\n",
    "print(recall[np.argmax(total)], pres[np.argmax(total)])\n",
    "# plt.plot(recall, pres)"
   ]
  },
  {
   "cell_type": "code",
   "execution_count": 19,
   "metadata": {},
   "outputs": [
    {
     "data": {
      "text/plain": [
       "[<matplotlib.lines.Line2D at 0x11cdebd10>]"
      ]
     },
     "execution_count": 19,
     "metadata": {},
     "output_type": "execute_result"
    },
    {
     "data": {
      "image/png": "[encoded data removed]",
      "text/plain": [
       "<Figure size 432x288 with 1 Axes>"
      ]
     },
     "metadata": {
      "needs_background": "light"
     },
     "output_type": "display_data"
    }
   ],
   "source": [
    "plt.plot(recall, pres)"
   ]
  },
  {
   "cell_type": "code",
   "execution_count": 20,
   "metadata": {},
   "outputs": [
    {
     "name": "stdout",
     "output_type": "stream",
     "text": [
      "0.4 1.0\n"
     ]
    },
    {
     "data": {
      "text/plain": [
       "[<matplotlib.lines.Line2D at 0x11987ad90>]"
      ]
     },
     "execution_count": 20,
     "metadata": {},
     "output_type": "execute_result"
    },
    {
     "data": {
      "image/png": "[encoded data removed]",
      "text/plain": [
       "<Figure size 432x288 with 1 Axes>"
      ]
     },
     "metadata": {
      "needs_background": "light"
     },
     "output_type": "display_data"
    }
   ],
   "source": [
    "import warnings\n",
    "warnings.filterwarnings('ignore')\n",
    "pres = []\n",
    "recall = []\n",
    "for i in np.arange(0.0001, 0.01, 0.0001):\n",
    "    model = svm.LinearSVC(C = i, penalty = 'l1', loss = 'squared_hinge', class_weight = \"balanced\", dual = False)\n",
    "    model.fit(X, y)\n",
    "    pred_n = model.predict(validation_set_neg)\n",
    "    pred_p = model.predict(validation_set_pos)\n",
    "    if sum(pred_p) + sum(pred_n) > 0:\n",
    "        pres.append(sum(pred_p)/(sum(pred_p) + sum(pred_n)))\n",
    "        recall.append(sum(pred_p)/len(pred_p))\n",
    "total = [pres[i] + recall[i] for i in range(len(pres))]\n",
    "print(recall[np.argmax(total)], pres[np.argmax(total)])\n",
    "plt.plot(recall, pres)"
   ]
  },
  {
   "cell_type": "code",
   "execution_count": 21,
   "metadata": {},
   "outputs": [
    {
     "name": "stdout",
     "output_type": "stream",
     "text": [
      "0.2 1.0\n"
     ]
    },
    {
     "data": {
      "image/png": "[encoded data removed]",
      "text/plain": [
       "<Figure size 432x288 with 1 Axes>"
      ]
     },
     "metadata": {
      "needs_background": "light"
     },
     "output_type": "display_data"
    }
   ],
   "source": [
    "pres = []\n",
    "recall = []\n",
    "for i in np.arange(0.0001, 0.001, 0.0001):\n",
    "    model = svm.NuSVC(nu = i, class_weight = \"balanced\", gamma = 'scale')\n",
    "    model.fit(X, y)\n",
    "    pred_n = model.predict(validation_set_neg)\n",
    "    pred_p = model.predict(validation_set_pos)\n",
    "    if sum(pred_p) + sum(pred_n) > 0:\n",
    "        recall.append(sum(pred_p)/len(pred_p))\n",
    "        pres.append(sum(pred_p)/(sum(pred_p) + sum(pred_n)))\n",
    "\n",
    "plt.plot(recall, pres)\n",
    "total = [pres[i] + recall[i] for i in range(len(pres))]\n",
    "print(recall[np.argmax(total)], pres[np.argmax(total)])"
   ]
  },
  {
   "cell_type": "code",
   "execution_count": 22,
   "metadata": {},
   "outputs": [
    {
     "name": "stdout",
     "output_type": "stream",
     "text": [
      "0.4 0.2222222222222222\n"
     ]
    }
   ],
   "source": [
    "# Unsupervised outlier detection with both types of entries\n",
    "model = svm.OneClassSVM(gamma = 'scale')\n",
    "model.fit(X)\n",
    "pred_n = model.predict(validation_set_neg)\n",
    "pred_p = model.predict(validation_set_pos)\n",
    "recall = sum([1 for i in pred_p if i == -1])/len(pred_p)\n",
    "pres = sum([1 for i in pred_p if i == -1])/(sum([1 for i in pred_p if i == -1]) + sum([1 for i in pred_n if i == -1]))\n",
    "print(recall, pres)"
   ]
  },
  {
   "cell_type": "code",
   "execution_count": 23,
   "metadata": {},
   "outputs": [
    {
     "name": "stdout",
     "output_type": "stream",
     "text": [
      "[ 1  1  1  1  1  1 -1  1  1  1  1  1 -1 -1  1  1 -1 -1 -1  1  1]\n",
      "0.7619047619047619 0.7272727272727273\n"
     ]
    }
   ],
   "source": [
    "# Unsupervised outlier detection with only non-fraud entries\n",
    "df3 = df[df[\"Fraud\"] != 1].copy()\n",
    "df4 = df3.iloc[21:,:]\n",
    "X1 = df4.iloc[:,1:].copy()\n",
    "validation_set_neg = df3.iloc[:21,1:].copy()\n",
    "validation_set_pos = df[df[\"Fraud\"] == 1].iloc[:,1:].copy()\n",
    "model = svm.OneClassSVM(gamma = 'scale')\n",
    "model.fit(X1)\n",
    "pred_n = model.predict(validation_set_neg)\n",
    "pred_p = model.predict(validation_set_pos)\n",
    "print(pred_n)\n",
    "recall = sum([1 for i in pred_p if i == -1])/len(pred_p)\n",
    "pres = sum([1 for i in pred_p if i == -1])/(sum([1 for i in pred_p if i == -1]) + sum([1 for i in pred_n if i == -1]))\n",
    "print(recall, pres)"
   ]
  },
  {
   "cell_type": "code",
   "execution_count": 7,
   "metadata": {},
   "outputs": [
    {
     "data": {
      "text/plain": [
       "(1931, 367)"
      ]
     },
     "execution_count": 7,
     "metadata": {},
     "output_type": "execute_result"
    }
   ],
   "source": [
    "X.shape"
   ]
  },
  {
   "cell_type": "code",
   "execution_count": null,
   "metadata": {},
   "outputs": [],
   "source": []
  }
 ],
 "metadata": {
  "kernelspec": {
   "display_name": "Python 3",
   "language": "python",
   "name": "python3"
  },
  "language_info": {
   "codemirror_mode": {
    "name": "ipython",
    "version": 3
   },
   "file_extension": ".py",
   "mimetype": "text/x-python",
   "name": "python",
   "nbconvert_exporter": "python",
   "pygments_lexer": "ipython3",
   "version": "3.7.4"
  }
 },
 "nbformat": 4,
 "nbformat_minor": 2
}
