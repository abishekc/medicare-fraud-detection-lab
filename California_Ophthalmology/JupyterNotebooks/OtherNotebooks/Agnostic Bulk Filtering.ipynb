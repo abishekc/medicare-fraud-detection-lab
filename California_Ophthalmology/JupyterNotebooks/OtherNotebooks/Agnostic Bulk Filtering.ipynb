{
 "cells": [
  {
   "cell_type": "code",
   "execution_count": 1,
   "metadata": {},
   "outputs": [],
   "source": [
    "import numpy as np\n",
    "import pandas as pd\n",
    "import matplotlib.pyplot as plt"
   ]
  },
  {
   "cell_type": "code",
   "execution_count": 56,
   "metadata": {},
   "outputs": [],
   "source": [
    "## Load the required modules\n",
    "\n",
    "from sklearn.model_selection import StratifiedKFold, cross_val_score, validation_curve\n",
    "from sklearn.pipeline import Pipeline\n",
    "from sklearn.preprocessing import StandardScaler\n",
    "from sklearn.linear_model import LogisticRegression\n",
    "from sklearn.neighbors import KNeighborsClassifier\n",
    "from sklearn.svm import SVC, LinearSVC"
   ]
  },
  {
   "cell_type": "code",
   "execution_count": 11,
   "metadata": {},
   "outputs": [],
   "source": [
    "# Reading the merged datasets\n",
    "\n",
    "data_merged_MP = pd.read_csv('data_merged_MP.csv', index_col=0)\n",
    "data_merged_MP_only = pd.read_csv('data_merged_MP_only.csv', index_col=0)\n",
    "data_merged_NoS = pd.read_csv('data_merged_NoS.csv', index_col=0)\n",
    "data_merged_Ratio = pd.read_csv('data_merged_Ratio.csv', index_col=0)"
   ]
  },
  {
   "cell_type": "code",
   "execution_count": 3,
   "metadata": {},
   "outputs": [],
   "source": [
    "fraud_npi = [1003816141, 1013010685, 1114913761, 1124131958, 1124150065, 1134232648, 1275626897, \n",
    "             1285622662, 1306023973, 1326230822, 1386989440, 1477573319, 1518046754, 1528054640, \n",
    "             1649316753, 1720096829, 1720123110, 1740210236, 1760566566, 1780609933, 1821273137, \n",
    "             1861470783, 1932270097]\n",
    "\n",
    "\n",
    "non_fraud_npi = [1124040209, 1154430460, 1154439743, 1164531430, 1225072481, 1235234634, 1295736916, \n",
    "                 1316980014, 1396798484, 1447267505, 1457457483, 1457468514, 1477504405, 1497864664, \n",
    "                 1497943914, 1528043023, 1528177706, 1538265632, 1548294101, 1588678841, 1629177241, \n",
    "                 1669560041, 1679884472, 1689601635, 1689773244, 1699725507, 1700985496, 1770684938, \n",
    "                 1912968496,  1922072966, 1942455423, 1962525279, 1992804504]\n",
    "\n",
    "\n",
    "flag = pd.Series(data=['unlabeled'] * len(data_merged_MP.index), index=data_merged_MP.index, dtype='str', name='flag')\n",
    "for npi in non_fraud_npi:\n",
    "     flag.at[npi] = 'non-fraudulent'\n",
    "for npi in fraud_npi:\n",
    "    flag.at[npi] = 'fraudulent'"
   ]
  },
  {
   "cell_type": "markdown",
   "metadata": {},
   "source": [
    "## Data to work with"
   ]
  },
  {
   "cell_type": "code",
   "execution_count": 51,
   "metadata": {},
   "outputs": [],
   "source": [
    "data_merged = [data_merged_MP.copy(), data_merged_MP_only.copy(), data_merged_NoS.copy(), data_merged_Ratio.copy()]\n",
    "    \n",
    "x = []\n",
    "for i in range(len(data_merged)):\n",
    "    vals = data_merged[i].values\n",
    "    z = np.zeros((vals.shape[0], int(vals.shape[1] / 7)))\n",
    "    for r in range(z.shape[0]):\n",
    "        for c in range(z.shape[1]):\n",
    "            z[r, c] = np.mean(vals[r, c * 7 : (c+1) * 7])\n",
    "    clmns = [hcpcs[0:5] for hcpcs in data_merged[i].columns]\n",
    "    clmns = list(set(clmns))\n",
    "    clmns.sort()\n",
    "    df = pd.DataFrame(data=z, index=data_merged[i].index, columns=clmns, dtype='float64')\n",
    "    x.append(df)\n",
    "        \n",
    "    \n",
    "[x_MP, x_MP_only, x_NoS, x_Ratio] = x \n",
    "\n",
    "kf = StratifiedKFold(4, shuffle=True, random_state=0)"
   ]
  },
  {
   "cell_type": "code",
   "execution_count": null,
   "metadata": {},
   "outputs": [],
   "source": []
  },
  {
   "cell_type": "code",
   "execution_count": 86,
   "metadata": {
    "scrolled": true
   },
   "outputs": [
    {
     "name": "stdout",
     "output_type": "stream",
     "text": [
      "0\n",
      "516\n",
      "Best scores logistic regression: [0.7889194139194139, 0.7889194139194139, 0.8222527472527473]\n",
      "Best hyperparameters logistic regression: [0.0005994842503189409, 0.0005994842503189409, 0.021544346900318846]\n",
      "\n",
      "\n",
      "Best scores svm: [0.7889194139194139, 0.7889194139194139, 0.8222527472527473]\n",
      "Best hyperparameters svm: [0.0001, 0.0001, 0.003593813663804626]\n",
      "10\n",
      "465\n",
      "Best scores logistic regression: [0.8030219780219781, 0.7863553113553113, 0.8401098901098901]\n",
      "Best hyperparameters logistic regression: [0.003593813663804626, 0.003593813663804626, 0.0005994842503189409]\n",
      "\n",
      "\n",
      "Best scores svm: [0.7837912087912089, 0.7863553113553113, 0.8401098901098901]\n",
      "Best hyperparameters svm: [0.0005994842503189409, 0.0005994842503189409, 0.0001]\n",
      "20\n",
      "413\n",
      "Best scores logistic regression: [0.7123626373626375, 0.7302197802197803, 0.7480769230769231]\n",
      "Best hyperparameters logistic regression: [4.641588833612782, 4.641588833612782, 0.774263682681127]\n",
      "\n",
      "\n",
      "Best scores svm: [0.7135531135531135, 0.6943223443223443, 0.7147435897435896]\n",
      "Best hyperparameters svm: [0.021544346900318846, 0.021544346900318846, 0.021544346900318846]\n",
      "30\n",
      "362\n",
      "Best scores logistic regression: [0.7302197802197803, 0.7302197802197803, 0.7123626373626375]\n",
      "Best hyperparameters logistic regression: [4.641588833612782, 4.641588833612782, 0.774263682681127]\n",
      "\n",
      "\n",
      "Best scores svm: [0.7123626373626375, 0.7123626373626375, 0.6931318681318682]\n",
      "Best hyperparameters svm: [0.774263682681127, 0.774263682681127, 0.1291549665014884]\n",
      "40\n",
      "310\n",
      "Best scores logistic regression: [0.641941391941392, 0.6240842490842491, 0.6252747252747253]\n",
      "Best hyperparameters logistic regression: [1000.0, 1000.0, 1000.0]\n",
      "\n",
      "\n",
      "Best scores svm: [0.6252747252747253, 0.6252747252747253, 0.6086080586080587]\n",
      "Best hyperparameters svm: [0.774263682681127, 0.774263682681127, 0.0001]\n",
      "50\n",
      "258\n",
      "Best scores logistic regression: [0.5895604395604395, 0.5895604395604395, 0.5728937728937729]\n",
      "Best hyperparameters logistic regression: [1000.0, 166.81005372000593, 0.003593813663804626]\n",
      "\n",
      "\n",
      "Best scores svm: [0.5728937728937729, 0.5728937728937729, 0.5728937728937729]\n",
      "Best hyperparameters svm: [0.0005994842503189409, 0.0005994842503189409, 0.0005994842503189409]\n",
      "60\n",
      "207\n",
      "Best scores logistic regression: [0.5728937728937729, 0.5728937728937729, 0.5728937728937729]\n",
      "Best hyperparameters logistic regression: [0.021544346900318846, 0.021544346900318846, 0.021544346900318846]\n",
      "\n",
      "\n",
      "Best scores svm: [0.5728937728937729, 0.5728937728937729, 0.5728937728937729]\n",
      "Best hyperparameters svm: [0.0005994842503189409, 0.0005994842503189409, 0.0005994842503189409]\n",
      "70\n",
      "155\n",
      "Best scores logistic regression: [0.5895604395604395, 0.5895604395604395, 0.5895604395604395]\n",
      "Best hyperparameters logistic regression: [0.021544346900318846, 0.021544346900318846, 0.021544346900318846]\n",
      "\n",
      "\n",
      "Best scores svm: [0.5895604395604395, 0.5895604395604395, 0.5895604395604395]\n",
      "Best hyperparameters svm: [0.0005994842503189409, 0.0005994842503189409, 0.0005994842503189409]\n",
      "80\n",
      "104\n",
      "Best scores logistic regression: [0.5895604395604395, 0.5895604395604395, 0.5895604395604395]\n",
      "Best hyperparameters logistic regression: [0.003593813663804626, 0.003593813663804626, 0.003593813663804626]\n",
      "\n",
      "\n",
      "Best scores svm: [0.5895604395604395, 0.5895604395604395, 0.5895604395604395]\n",
      "Best hyperparameters svm: [0.0005994842503189409, 0.0005994842503189409, 0.0005994842503189409]\n",
      "90\n",
      "52\n",
      "Best scores logistic regression: [0.5895604395604395, 0.5895604395604395, 0.5895604395604395]\n",
      "Best hyperparameters logistic regression: [0.0001, 0.0001, 0.0001]\n",
      "\n",
      "\n",
      "Best scores svm: [0.5895604395604395, 0.5895604395604395, 0.5895604395604395]\n",
      "Best hyperparameters svm: [0.0001, 0.0001, 0.0001]\n"
     ]
    }
   ],
   "source": [
    "import warnings\n",
    "warnings.filterwarnings('ignore')\n",
    "\n",
    "best_scores_svm = []\n",
    "best_scores_lgr = []\n",
    "\n",
    "for n in range(10):\n",
    "    percentile = n * 10\n",
    "    print(percentile)\n",
    "    inds = set()\n",
    "    \n",
    "#     total_payments = []\n",
    "#     for hcpcs in x_MP_only.columns:\n",
    "#         total_payments.append(np.mean(x_MP_only[hcpcs].values))\n",
    "#     val = np.percentile(total_payments, percentile)\n",
    "#     for i in range(len(total_payments)):\n",
    "#         if total_payments[i] > val:\n",
    "#             inds.add(i)\n",
    "\n",
    "    total_Ratio = []\n",
    "    for hcpcs in x_Ratio.columns:\n",
    "        total_Ratio.append(np.mean(x_Ratio[hcpcs].values))\n",
    "    val = np.percentile(total_Ratio, 100 - percentile)\n",
    "    for i in range(len(total_Ratio)):\n",
    "        if total_Ratio[i] < val:\n",
    "            inds.add(i)\n",
    "            \n",
    "    print(len(inds))\n",
    "    \n",
    "    x_MP_subset = x_MP.copy().iloc[:,list(inds)]\n",
    "    x_NoS_subset = x_NoS.copy().iloc[:,list(inds)]\n",
    "    x_Ratio_subset  = x_Ratio.copy().iloc[:,list(inds)]\n",
    "    \n",
    "    x_MP_train, x_MP_unlabeled = x_MP_subset.loc[flag != 'unlabeled'], x_MP_subset.loc[flag == 'unlabeled']\n",
    "    x_NoS_train, x_NoS_unlabeled = x_NoS_subset.loc[flag != 'unlabeled'], x_NoS_subset.loc[flag == 'unlabeled']\n",
    "    x_Ratio_train, x_Ratio_unlabeled = x_Ratio_subset.loc[flag != 'unlabeled'], x_Ratio_subset.loc[flag == 'unlabeled']\n",
    "\n",
    "    y_train = flag[flag != 'unlabeled']\n",
    "    \n",
    "    ## Logistic Regression and SVM\n",
    "\n",
    "    x_train = [x_MP_train, x_NoS_train, x_Ratio_train]\n",
    "\n",
    "    C_grid = np.logspace(-4,3,10)\n",
    "\n",
    "    score_best_lr = []\n",
    "    score_best_svm= []\n",
    "    C_best_lr = []\n",
    "    C_best_svm = []\n",
    "\n",
    "    for x in x_train:\n",
    "        scores_lr = []\n",
    "        scores_svm = []\n",
    "        for C in C_grid:\n",
    "            clf_lr = Pipeline([('scaler', StandardScaler()), ('logit', LogisticRegression(C=C, max_iter=1e7))])\n",
    "            clf_svm = Pipeline([('scaler', StandardScaler()), ('svc', LinearSVC(C=C, max_iter=1e7))])\n",
    "            scores_lr.append(cross_val_score(clf_lr, x, y_train, cv=kf).mean())\n",
    "            scores_svm.append(cross_val_score(clf_svm, x, y_train, cv=kf).mean())\n",
    "        score_best_lr.append(np.max(scores_lr)) \n",
    "        score_best_svm.append(np.max(scores_svm)) \n",
    "        C_best_lr.append(C_grid[np.argmax(scores_lr)])\n",
    "        C_best_svm.append(C_grid[np.argmax(scores_svm)])\n",
    "\n",
    "        \n",
    "    best_scores_lgr.append(np.mean(score_best_lr))\n",
    "    best_scores_svm.append(np.mean(score_best_svm))\n",
    "    print('Best scores logistic regression:', score_best_lr)\n",
    "    print('Best hyperparameters logistic regression:', C_best_lr)\n",
    "    print('\\n')\n",
    "    print('Best scores svm:', score_best_svm)\n",
    "    print('Best hyperparameters svm:', C_best_svm)"
   ]
  },
  {
   "cell_type": "code",
   "execution_count": 89,
   "metadata": {
    "scrolled": true
   },
   "outputs": [
    {
     "data": {
      "text/plain": [
       "Text(0, 0.5, 'SVM Prediction accuracy')"
      ]
     },
     "execution_count": 89,
     "metadata": {},
     "output_type": "execute_result"
    },
    {
     "data": {
      "image/png": "[encoded data removed]",
      "text/plain": [
       "<Figure size 432x288 with 1 Axes>"
      ]
     },
     "metadata": {
      "needs_background": "light"
     },
     "output_type": "display_data"
    }
   ],
   "source": [
    "plt.plot([n * 10 for n in range(10)], best_scores_svm)\n",
    "plt.title(\"SVM Accuracy, Filtering out percentage of codes with highest ratio\")\n",
    "plt.xlabel(\"Percent filtered out\")\n",
    "plt.ylabel(\"SVM Prediction accuracy\")"
   ]
  },
  {
   "cell_type": "code",
   "execution_count": 90,
   "metadata": {
    "scrolled": false
   },
   "outputs": [
    {
     "data": {
      "text/plain": [
       "Text(0, 0.5, 'LGR Prediction accuracy')"
      ]
     },
     "execution_count": 90,
     "metadata": {},
     "output_type": "execute_result"
    },
    {
     "data": {
      "image/png": "[encoded data removed]",
      "text/plain": [
       "<Figure size 432x288 with 1 Axes>"
      ]
     },
     "metadata": {
      "needs_background": "light"
     },
     "output_type": "display_data"
    }
   ],
   "source": [
    "plt.plot([n * 10 for n in range(10)], best_scores_lgr)\n",
    "plt.title(\"Log Regression Accuracy, Filtering out percentage of codes with highest ratio\")\n",
    "plt.xlabel(\"Percent filtered out\")\n",
    "plt.ylabel(\"LGR Prediction accuracy\")"
   ]
  },
  {
   "cell_type": "code",
   "execution_count": 102,
   "metadata": {
    "scrolled": true
   },
   "outputs": [
    {
     "name": "stdout",
     "output_type": "stream",
     "text": [
      "0\n",
      "516\n",
      "Best scores logistic regression: [0.7889194139194139, 0.7889194139194139, 0.8222527472527473]\n",
      "Best hyperparameters logistic regression: [0.0005994842503189409, 0.0005994842503189409, 0.021544346900318846]\n",
      "\n",
      "\n",
      "Best scores svm: [0.7889194139194139, 0.7889194139194139, 0.8222527472527473]\n",
      "Best hyperparameters svm: [0.0001, 0.0001, 0.003593813663804626]\n",
      "10\n",
      "465\n",
      "Best scores logistic regression: [0.7696886446886446, 0.7696886446886446, 0.8222527472527473]\n",
      "Best hyperparameters logistic regression: [0.0001, 0.0001, 0.021544346900318846]\n",
      "\n",
      "\n",
      "Best scores svm: [0.7696886446886446, 0.7863553113553113, 0.8030219780219781]\n",
      "Best hyperparameters svm: [0.0001, 0.003593813663804626, 0.003593813663804626]\n",
      "20\n",
      "413\n",
      "Best scores logistic regression: [0.7696886446886446, 0.7696886446886446, 0.8222527472527473]\n",
      "Best hyperparameters logistic regression: [0.0001, 0.0001, 0.021544346900318846]\n",
      "\n",
      "\n",
      "Best scores svm: [0.7696886446886446, 0.7696886446886446, 0.8030219780219781]\n",
      "Best hyperparameters svm: [0.0001, 0.0001, 0.003593813663804626]\n",
      "30\n",
      "362\n",
      "Best scores logistic regression: [0.7504578754578755, 0.7504578754578755, 0.7837912087912089]\n",
      "Best hyperparameters logistic regression: [0.0001, 0.0001, 0.021544346900318846]\n",
      "\n",
      "\n",
      "Best scores svm: [0.7504578754578755, 0.7504578754578755, 0.7837912087912089]\n",
      "Best hyperparameters svm: [0.0001, 0.0001, 0.003593813663804626]\n",
      "40\n",
      "310\n",
      "Best scores logistic regression: [0.7504578754578755, 0.7504578754578755, 0.7837912087912089]\n",
      "Best hyperparameters logistic regression: [0.0001, 0.0001, 0.021544346900318846]\n",
      "\n",
      "\n",
      "Best scores svm: [0.7504578754578755, 0.7504578754578755, 0.7837912087912089]\n",
      "Best hyperparameters svm: [0.0001, 0.0001, 0.003593813663804626]\n",
      "50\n",
      "258\n",
      "Best scores logistic regression: [0.7504578754578755, 0.7326007326007327, 0.7696886446886446]\n",
      "Best hyperparameters logistic regression: [0.003593813663804626, 0.021544346900318846, 0.0001]\n",
      "\n",
      "\n",
      "Best scores svm: [0.7504578754578755, 0.7504578754578755, 0.7696886446886446]\n",
      "Best hyperparameters svm: [0.0005994842503189409, 0.0005994842503189409, 0.0001]\n",
      "60\n",
      "207\n",
      "Best scores logistic regression: [0.7337912087912088, 0.7171245421245422, 0.753021978021978]\n",
      "Best hyperparameters logistic regression: [0.003593813663804626, 0.003593813663804626, 0.0001]\n",
      "\n",
      "\n",
      "Best scores svm: [0.7337912087912088, 0.7133699633699634, 0.753021978021978]\n",
      "Best hyperparameters svm: [0.0005994842503189409, 0.1291549665014884, 0.0001]\n",
      "70\n",
      "155\n",
      "Best scores logistic regression: [0.7337912087912088, 0.7337912087912088, 0.753021978021978]\n",
      "Best hyperparameters logistic regression: [0.0001, 0.0001, 0.0001]\n",
      "\n",
      "\n",
      "Best scores svm: [0.7337912087912088, 0.7337912087912088, 0.753021978021978]\n",
      "Best hyperparameters svm: [0.0001, 0.0001, 0.0001]\n",
      "80\n",
      "104\n",
      "Best scores logistic regression: [0.7363553113553114, 0.7171245421245422, 0.753021978021978]\n",
      "Best hyperparameters logistic regression: [0.0001, 0.0001, 0.0001]\n",
      "\n",
      "\n",
      "Best scores svm: [0.7363553113553114, 0.7171245421245422, 0.753021978021978]\n",
      "Best hyperparameters svm: [0.0001, 0.0001, 0.0001]\n",
      "90\n",
      "52\n",
      "Best scores logistic regression: [0.753021978021978, 0.753021978021978, 0.7722527472527473]\n",
      "Best hyperparameters logistic regression: [0.0001, 0.0001, 0.0001]\n",
      "\n",
      "\n",
      "Best scores svm: [0.753021978021978, 0.753021978021978, 0.7722527472527473]\n",
      "Best hyperparameters svm: [0.0001, 0.0001, 0.0001]\n"
     ]
    }
   ],
   "source": [
    "import warnings\n",
    "warnings.filterwarnings('ignore')\n",
    "\n",
    "best_scores_svm = []\n",
    "best_scores_lgr = []\n",
    "\n",
    "for n in range(10):\n",
    "    percentile = n * 10\n",
    "    print(percentile)\n",
    "    inds = set()\n",
    "    \n",
    "    total_payments = []\n",
    "    for hcpcs in x_MP_only.columns:\n",
    "        total_payments.append(np.mean(x_MP_only[hcpcs].values))\n",
    "    val = np.percentile(total_payments, percentile)\n",
    "    for i in range(len(total_payments)):\n",
    "        if total_payments[i] > val:\n",
    "            inds.add(i)\n",
    "\n",
    "#     total_Ratio = []\n",
    "#     for hcpcs in x_Ratio.columns:\n",
    "#         total_Ratio.append(np.mean(x_Ratio[hcpcs].values))\n",
    "#     val = np.percentile(total_Ratio, 100 - percentile)\n",
    "#     for i in range(len(total_Ratio)):\n",
    "#         if total_Ratio[i] < val:\n",
    "#             inds.add(i)\n",
    "            \n",
    "    print(len(inds))\n",
    "    \n",
    "    x_MP_subset = x_MP.copy().iloc[:,list(inds)]\n",
    "    x_NoS_subset = x_NoS.copy().iloc[:,list(inds)]\n",
    "    x_Ratio_subset  = x_Ratio.copy().iloc[:,list(inds)]\n",
    "    \n",
    "    x_MP_train, x_MP_unlabeled = x_MP_subset.loc[flag != 'unlabeled'], x_MP_subset.loc[flag == 'unlabeled']\n",
    "    x_NoS_train, x_NoS_unlabeled = x_NoS_subset.loc[flag != 'unlabeled'], x_NoS_subset.loc[flag == 'unlabeled']\n",
    "    x_Ratio_train, x_Ratio_unlabeled = x_Ratio_subset.loc[flag != 'unlabeled'], x_Ratio_subset.loc[flag == 'unlabeled']\n",
    "\n",
    "    y_train = flag[flag != 'unlabeled']\n",
    "    \n",
    "    ## Logistic Regression and SVM\n",
    "\n",
    "    x_train = [x_MP_train, x_NoS_train, x_Ratio_train]\n",
    "\n",
    "    C_grid = np.logspace(-4,3,10)\n",
    "\n",
    "    score_best_lr = []\n",
    "    score_best_svm= []\n",
    "    C_best_lr = []\n",
    "    C_best_svm = []\n",
    "\n",
    "    for x in x_train:\n",
    "        scores_lr = []\n",
    "        scores_svm = []\n",
    "        for C in C_grid:\n",
    "            clf_lr = Pipeline([('scaler', StandardScaler()), ('logit', LogisticRegression(C=C, max_iter=1e7))])\n",
    "            clf_svm = Pipeline([('scaler', StandardScaler()), ('svc', LinearSVC(C=C, max_iter=1e7))])\n",
    "            scores_lr.append(cross_val_score(clf_lr, x, y_train, cv=kf).mean())\n",
    "            scores_svm.append(cross_val_score(clf_svm, x, y_train, cv=kf).mean())\n",
    "        score_best_lr.append(np.max(scores_lr)) \n",
    "        score_best_svm.append(np.max(scores_svm)) \n",
    "        C_best_lr.append(C_grid[np.argmax(scores_lr)])\n",
    "        C_best_svm.append(C_grid[np.argmax(scores_svm)])\n",
    "\n",
    "        \n",
    "    best_scores_lgr.append(np.mean(score_best_lr))\n",
    "    best_scores_svm.append(np.mean(score_best_svm))\n",
    "    print('Best scores logistic regression:', score_best_lr)\n",
    "    print('Best hyperparameters logistic regression:', C_best_lr)\n",
    "    print('\\n')\n",
    "    print('Best scores svm:', score_best_svm)\n",
    "    print('Best hyperparameters svm:', C_best_svm)"
   ]
  },
  {
   "cell_type": "code",
   "execution_count": 105,
   "metadata": {
    "scrolled": true
   },
   "outputs": [
    {
     "data": {
      "text/plain": [
       "Text(0, 0.5, 'SVM Prediction accuracy')"
      ]
     },
     "execution_count": 105,
     "metadata": {},
     "output_type": "execute_result"
    },
    {
     "data": {
      "image/png": "[encoded data removed]",
      "text/plain": [
       "<Figure size 432x288 with 1 Axes>"
      ]
     },
     "metadata": {
      "needs_background": "light"
     },
     "output_type": "display_data"
    }
   ],
   "source": [
    "plt.plot([n * 10 for n in range(10)], best_scores_svm)\n",
    "plt.title(\"SVM Accuracy, Filtering out percentage of codes with lowest Avg Medicare Paid Amount\")\n",
    "plt.xlabel(\"Percent filtered out\")\n",
    "plt.ylabel(\"SVM Prediction accuracy\")"
   ]
  },
  {
   "cell_type": "code",
   "execution_count": 106,
   "metadata": {
    "scrolled": true
   },
   "outputs": [
    {
     "data": {
      "text/plain": [
       "Text(0, 0.5, 'LGR Prediction accuracy')"
      ]
     },
     "execution_count": 106,
     "metadata": {},
     "output_type": "execute_result"
    },
    {
     "data": {
      "image/png": "[encoded data removed]",
      "text/plain": [
       "<Figure size 432x288 with 1 Axes>"
      ]
     },
     "metadata": {
      "needs_background": "light"
     },
     "output_type": "display_data"
    }
   ],
   "source": [
    "plt.plot([n * 10 for n in range(10)], best_scores_lgr)\n",
    "plt.title(\"Log Regression Accuracy, Filtering out percentage of codes with lowest Avg Medicare Paid Amount\")\n",
    "plt.xlabel(\"Percent filtered out\")\n",
    "plt.ylabel(\"LGR Prediction accuracy\")"
   ]
  },
  {
   "cell_type": "code",
   "execution_count": 95,
   "metadata": {
    "scrolled": true
   },
   "outputs": [
    {
     "name": "stdout",
     "output_type": "stream",
     "text": [
      "0\n",
      "517\n",
      "Best scores logistic regression: [0.7889194139194139, 0.7889194139194139, 0.8222527472527473]\n",
      "Best hyperparameters logistic regression: [0.0005994842503189409, 0.0005994842503189409, 0.021544346900318846]\n",
      "\n",
      "\n",
      "Best scores svm: [0.7889194139194139, 0.7889194139194139, 0.8222527472527473]\n",
      "Best hyperparameters svm: [0.0001, 0.0001, 0.003593813663804626]\n",
      "10\n",
      "516\n",
      "Best scores logistic regression: [0.7889194139194139, 0.7889194139194139, 0.8222527472527473]\n",
      "Best hyperparameters logistic regression: [0.0005994842503189409, 0.0005994842503189409, 0.021544346900318846]\n",
      "\n",
      "\n",
      "Best scores svm: [0.7889194139194139, 0.7889194139194139, 0.8222527472527473]\n",
      "Best hyperparameters svm: [0.0001, 0.0001, 0.003593813663804626]\n",
      "20\n",
      "515\n",
      "Best scores logistic regression: [0.7889194139194139, 0.7889194139194139, 0.8222527472527473]\n",
      "Best hyperparameters logistic regression: [0.0005994842503189409, 0.0005994842503189409, 0.021544346900318846]\n",
      "\n",
      "\n",
      "Best scores svm: [0.7889194139194139, 0.7889194139194139, 0.8222527472527473]\n",
      "Best hyperparameters svm: [0.0001, 0.0001, 0.003593813663804626]\n",
      "30\n",
      "514\n",
      "Best scores logistic regression: [0.7889194139194139, 0.7889194139194139, 0.8222527472527473]\n",
      "Best hyperparameters logistic regression: [0.0005994842503189409, 0.0005994842503189409, 0.021544346900318846]\n",
      "\n",
      "\n",
      "Best scores svm: [0.7889194139194139, 0.7889194139194139, 0.8222527472527473]\n",
      "Best hyperparameters svm: [0.0001, 0.0001, 0.003593813663804626]\n",
      "40\n",
      "514\n",
      "Best scores logistic regression: [0.7889194139194139, 0.7889194139194139, 0.8222527472527473]\n",
      "Best hyperparameters logistic regression: [0.0005994842503189409, 0.0005994842503189409, 0.021544346900318846]\n",
      "\n",
      "\n",
      "Best scores svm: [0.7889194139194139, 0.7889194139194139, 0.8222527472527473]\n",
      "Best hyperparameters svm: [0.0001, 0.0001, 0.003593813663804626]\n",
      "50\n",
      "511\n",
      "Best scores logistic regression: [0.7889194139194139, 0.7696886446886446, 0.8222527472527473]\n",
      "Best hyperparameters logistic regression: [0.003593813663804626, 0.0001, 0.021544346900318846]\n",
      "\n",
      "\n",
      "Best scores svm: [0.7889194139194139, 0.7863553113553113, 0.8222527472527473]\n",
      "Best hyperparameters svm: [0.0001, 0.003593813663804626, 0.003593813663804626]\n",
      "60\n",
      "510\n",
      "Best scores logistic regression: [0.7889194139194139, 0.7696886446886446, 0.8222527472527473]\n",
      "Best hyperparameters logistic regression: [0.003593813663804626, 0.0001, 0.021544346900318846]\n",
      "\n",
      "\n",
      "Best scores svm: [0.7889194139194139, 0.7863553113553113, 0.8222527472527473]\n",
      "Best hyperparameters svm: [0.0001, 0.003593813663804626, 0.003593813663804626]\n",
      "70\n",
      "510\n",
      "Best scores logistic regression: [0.7889194139194139, 0.7696886446886446, 0.8222527472527473]\n",
      "Best hyperparameters logistic regression: [0.003593813663804626, 0.0001, 0.021544346900318846]\n",
      "\n",
      "\n",
      "Best scores svm: [0.7889194139194139, 0.7863553113553113, 0.8222527472527473]\n",
      "Best hyperparameters svm: [0.0001, 0.003593813663804626, 0.003593813663804626]\n",
      "80\n",
      "509\n",
      "Best scores logistic regression: [0.7889194139194139, 0.7696886446886446, 0.8222527472527473]\n",
      "Best hyperparameters logistic regression: [0.003593813663804626, 0.0001, 0.021544346900318846]\n",
      "\n",
      "\n",
      "Best scores svm: [0.7889194139194139, 0.7863553113553113, 0.8222527472527473]\n",
      "Best hyperparameters svm: [0.0005994842503189409, 0.003593813663804626, 0.003593813663804626]\n",
      "90\n",
      "498\n",
      "Best scores logistic regression: [0.8055860805860806, 0.8042124542124542, 0.8236263736263738]\n",
      "Best hyperparameters logistic regression: [0.021544346900318846, 0.003593813663804626, 0.1291549665014884]\n",
      "\n",
      "\n",
      "Best scores svm: [0.7863553113553113, 0.8042124542124542, 0.8414835164835166]\n",
      "Best hyperparameters svm: [0.0001, 0.0001, 0.003593813663804626]\n"
     ]
    }
   ],
   "source": [
    "import warnings\n",
    "warnings.filterwarnings('ignore')\n",
    "\n",
    "best_scores_svm = []\n",
    "best_scores_lgr = []\n",
    "\n",
    "for n in range(10):\n",
    "    percentile = n * 10\n",
    "    print(percentile)\n",
    "    inds = set()\n",
    "    \n",
    "    total_payments = []\n",
    "    for hcpcs in x_MP_only.columns:\n",
    "        total_payments.append(np.mean(x_MP_only[hcpcs].values))\n",
    "    val = np.percentile(total_payments, percentile)\n",
    "    for i in range(len(total_payments)):\n",
    "        if total_payments[i] > val:\n",
    "            inds.add(i)\n",
    "\n",
    "    total_Ratio = []\n",
    "    for hcpcs in x_Ratio.columns:\n",
    "        total_Ratio.append(np.mean(x_Ratio[hcpcs].values))\n",
    "    val = np.percentile(total_Ratio, 90)\n",
    "    for i in range(len(total_Ratio)):\n",
    "        if total_Ratio[i] < val:\n",
    "            inds.add(i)\n",
    "            \n",
    "    print(len(inds))\n",
    "    \n",
    "    x_MP_subset = x_MP.copy().iloc[:,list(inds)]\n",
    "    x_NoS_subset = x_NoS.copy().iloc[:,list(inds)]\n",
    "    x_Ratio_subset  = x_Ratio.copy().iloc[:,list(inds)]\n",
    "    \n",
    "    x_MP_train, x_MP_unlabeled = x_MP_subset.loc[flag != 'unlabeled'], x_MP_subset.loc[flag == 'unlabeled']\n",
    "    x_NoS_train, x_NoS_unlabeled = x_NoS_subset.loc[flag != 'unlabeled'], x_NoS_subset.loc[flag == 'unlabeled']\n",
    "    x_Ratio_train, x_Ratio_unlabeled = x_Ratio_subset.loc[flag != 'unlabeled'], x_Ratio_subset.loc[flag == 'unlabeled']\n",
    "\n",
    "    y_train = flag[flag != 'unlabeled']\n",
    "    \n",
    "    ## Logistic Regression and SVM\n",
    "\n",
    "    x_train = [x_MP_train, x_NoS_train, x_Ratio_train]\n",
    "\n",
    "    C_grid = np.logspace(-4,3,10)\n",
    "\n",
    "    score_best_lr = []\n",
    "    score_best_svm= []\n",
    "    C_best_lr = []\n",
    "    C_best_svm = []\n",
    "\n",
    "    for x in x_train:\n",
    "        scores_lr = []\n",
    "        scores_svm = []\n",
    "        for C in C_grid:\n",
    "            clf_lr = Pipeline([('scaler', StandardScaler()), ('logit', LogisticRegression(C=C, max_iter=1e7))])\n",
    "            clf_svm = Pipeline([('scaler', StandardScaler()), ('svc', LinearSVC(C=C, max_iter=1e7))])\n",
    "            scores_lr.append(cross_val_score(clf_lr, x, y_train, cv=kf).mean())\n",
    "            scores_svm.append(cross_val_score(clf_svm, x, y_train, cv=kf).mean())\n",
    "        score_best_lr.append(np.max(scores_lr)) \n",
    "        score_best_svm.append(np.max(scores_svm)) \n",
    "        C_best_lr.append(C_grid[np.argmax(scores_lr)])\n",
    "        C_best_svm.append(C_grid[np.argmax(scores_svm)])\n",
    "\n",
    "        \n",
    "    best_scores_lgr.append(np.mean(score_best_lr))\n",
    "    best_scores_svm.append(np.mean(score_best_svm))\n",
    "    print('Best scores logistic regression:', score_best_lr)\n",
    "    print('Best hyperparameters logistic regression:', C_best_lr)\n",
    "    print('\\n')\n",
    "    print('Best scores svm:', score_best_svm)\n",
    "    print('Best hyperparameters svm:', C_best_svm)"
   ]
  },
  {
   "cell_type": "code",
   "execution_count": 98,
   "metadata": {
    "scrolled": true
   },
   "outputs": [
    {
     "data": {
      "text/plain": [
       "Text(0, 0.5, 'SVM Prediction accuracy')"
      ]
     },
     "execution_count": 98,
     "metadata": {},
     "output_type": "execute_result"
    },
    {
     "data": {
      "image/png": "[encoded data removed]",
      "text/plain": [
       "<Figure size 432x288 with 1 Axes>"
      ]
     },
     "metadata": {
      "needs_background": "light"
     },
     "output_type": "display_data"
    }
   ],
   "source": [
    "plt.plot([n * 10 for n in range(10)], best_scores_svm)\n",
    "plt.title(\"SVM Accuracy, Filtering out both\")\n",
    "plt.xlabel(\"Percent filtered out\")\n",
    "plt.ylabel(\"SVM Prediction accuracy\")"
   ]
  },
  {
   "cell_type": "code",
   "execution_count": 99,
   "metadata": {
    "scrolled": true
   },
   "outputs": [
    {
     "data": {
      "text/plain": [
       "Text(0, 0.5, 'LGR Prediction accuracy')"
      ]
     },
     "execution_count": 99,
     "metadata": {},
     "output_type": "execute_result"
    },
    {
     "data": {
      "image/png": "[encoded data removed]",
      "text/plain": [
       "<Figure size 432x288 with 1 Axes>"
      ]
     },
     "metadata": {
      "needs_background": "light"
     },
     "output_type": "display_data"
    }
   ],
   "source": [
    "plt.plot([n * 10 for n in range(10)], best_scores_lgr)\n",
    "plt.title(\"Log Regression Accuracy, Filtering out both\")\n",
    "plt.xlabel(\"Percent filtered out\")\n",
    "plt.ylabel(\"LGR Prediction accuracy\")"
   ]
  },
  {
   "cell_type": "markdown",
   "metadata": {},
   "source": [
    "## Labeling the unlabeled data"
   ]
  },
  {
   "cell_type": "code",
   "execution_count": 35,
   "metadata": {},
   "outputs": [],
   "source": [
    "x_train = x_NoS_train\n",
    "clf = Pipeline([('scaler', StandardScaler()), ('svc', LinearSVC(C=0.0036, max_iter=1e6))])\n",
    "new_labels = clf.fit(x_train, y_train).predict(x_NoS_unlabeled)"
   ]
  },
  {
   "cell_type": "code",
   "execution_count": 39,
   "metadata": {},
   "outputs": [],
   "source": [
    "new_fraud_npi = x_NoS_unlabeled[new_labels == 'fraudulent'].index"
   ]
  },
  {
   "cell_type": "code",
   "execution_count": 81,
   "metadata": {},
   "outputs": [],
   "source": [
    "## Extracting names corresponding to the fraudulent npis\n",
    "\n",
    "data2018 = pd.read_csv('D:\\\\Anaconda\\\\Jupyter Directory\\\\Medicare Fraud Detection\\\\MedicareData_California_Opthalmology\\\\Medicare_Provider_Utilization_and_Payment_Data__Physician_and_Other_Supplier_PUF_CY2018_CA_Ophthalmology.csv')\n",
    "data2017 = pd.read_csv('D:\\\\Anaconda\\\\Jupyter Directory\\\\Medicare Fraud Detection\\\\MedicareData_California_Opthalmology\\\\Medicare_Provider_Utilization_and_Payment_Data__Physician_and_Other_Supplier_PUF_CY2017_CA_Ophthalmology.csv')\n",
    "data2016 = pd.read_csv('D:\\\\Anaconda\\\\Jupyter Directory\\\\Medicare Fraud Detection\\\\MedicareData_California_Opthalmology\\\\Medicare_Provider_Utilization_and_Payment_Data__Physician_and_Other_Supplier_PUF_CY2016_CA_Ophthalmology.csv')\n",
    "data2015 = pd.read_csv('D:\\\\Anaconda\\\\Jupyter Directory\\\\Medicare Fraud Detection\\\\MedicareData_California_Opthalmology\\\\Medicare_Provider_Utilization_and_Payment_Data__Physician_and_Other_Supplier_PUF_CY2015_CA_Ophthalmology.csv')\n",
    "data2014 = pd.read_csv('D:\\\\Anaconda\\\\Jupyter Directory\\\\Medicare Fraud Detection\\\\MedicareData_California_Opthalmology\\\\Medicare_Provider_Utilization_and_Payment_Data__Physician_and_Other_Supplier_PUF_CY2014_CA_Ophthalmology.csv')\n",
    "data2013 = pd.read_csv('D:\\\\Anaconda\\\\Jupyter Directory\\\\Medicare Fraud Detection\\\\MedicareData_California_Opthalmology\\\\Medicare_Provider_Utilization_and_Payment_Data__Physician_and_Other_Supplier_CY2013_CA_Ophthalmology.csv')\n",
    "data2013 = data2013.rename(columns={'National Provider Identifier ':'National Provider Identifier'})\n",
    "data2012 = pd.read_csv('D:\\\\Anaconda\\\\Jupyter Directory\\\\Medicare Fraud Detection\\\\MedicareData_California_Opthalmology\\\\Medicare_Provider_Utilization_and_Payment_Data__Physician_and_Other_Supplier_CY2012_CA_Ophthalmology.csv')\n"
   ]
  },
  {
   "cell_type": "code",
   "execution_count": 88,
   "metadata": {},
   "outputs": [],
   "source": [
    "df = pd.DataFrame(index=new_fraud_npi, columns=['Last Name', 'First Name'], dtype='str')\n",
    "\n",
    "for npi in new_fraud_npi:\n",
    "    d = data2012.loc[data2012['National Provider Identifier'] == npi]\n",
    "    if d.shape[0] != 0:\n",
    "        df.loc[npi] = d.iloc[0][['Last Name/Organization Name', 'First Name']].values\n",
    "\n",
    "df.to_csv(r'D:\\Anaconda\\Jupyter Directory\\Medicare Fraud Detection\\MedicareData_California_Opthalmology\\LoN_Feb28.csv')"
   ]
  }
 ],
 "metadata": {
  "kernelspec": {
   "display_name": "Python 3",
   "language": "python",
   "name": "python3"
  },
  "language_info": {
   "codemirror_mode": {
    "name": "ipython",
    "version": 3
   },
   "file_extension": ".py",
   "mimetype": "text/x-python",
   "name": "python",
   "nbconvert_exporter": "python",
   "pygments_lexer": "ipython3",
   "version": "3.7.4"
  }
 },
 "nbformat": 4,
 "nbformat_minor": 4
}
