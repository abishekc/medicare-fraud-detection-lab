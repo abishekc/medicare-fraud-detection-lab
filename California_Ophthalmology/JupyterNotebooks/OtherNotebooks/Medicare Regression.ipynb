{
 "cells": [
  {
   "cell_type": "code",
   "execution_count": 13,
   "metadata": {},
   "outputs": [],
   "source": [
    "import pandas as pd\n",
    "import numpy as np\n",
    "import sklearn.linear_model as lm\n",
    "import matplotlib.pyplot as plt"
   ]
  },
  {
   "cell_type": "code",
   "execution_count": 28,
   "metadata": {},
   "outputs": [],
   "source": [
    "df = pd.read_csv(\"Autoencoder 2017 Dataset.csv\")\n",
    "df = df[df[\"Fraud\"].notnull()].copy()\n",
    "df = df.fillna(0)\n",
    "\n",
    "df2 = df.iloc[:-5,:].copy()\n",
    "df2 = df2.iloc[20:,:].copy()\n",
    "X = df2.iloc[:,1:].copy()\n",
    "y = df2.iloc[:,0]\n",
    "validation_set_neg = df.iloc[:20,1:].copy()\n",
    "validation_set_pos = df.iloc[-5:,1:].copy()"
   ]
  },
  {
   "cell_type": "code",
   "execution_count": 29,
   "metadata": {},
   "outputs": [
    {
     "name": "stdout",
     "output_type": "stream",
     "text": [
      "1.0 0.2\n"
     ]
    },
    {
     "data": {
      "text/plain": [
       "[<matplotlib.lines.Line2D at 0x12484eb10>]"
      ]
     },
     "execution_count": 29,
     "metadata": {},
     "output_type": "execute_result"
    },
    {
     "data": {
      "image/png": "[encoded data removed]",
      "text/plain": [
       "<Figure size 432x288 with 1 Axes>"
      ]
     },
     "metadata": {
      "needs_background": "light"
     },
     "output_type": "display_data"
    }
   ],
   "source": [
    "import warnings\n",
    "warnings.filterwarnings('ignore')\n",
    "pres = []\n",
    "recall = []\n",
    "for i in np.arange(0.0001, 0.01, 0.0001):\n",
    "    model = lm.LogisticRegression(C = i, class_weight = \"balanced\")\n",
    "    model.fit(X, y)\n",
    "    pred_n = model.predict(validation_set_neg)\n",
    "    pred_p = model.predict(validation_set_pos)\n",
    "    if sum(pred_p) + sum(pred_n) > 0:\n",
    "        pres.append(sum(pred_p)/(sum(pred_p) + sum(pred_n)))\n",
    "        recall.append(sum(pred_p)/len(pred_p))\n",
    "total = [pres[i] + recall[i] for i in range(len(pres))]\n",
    "print(pres[np.argmax(total)], recall[np.argmax(total)])\n",
    "plt.plot(recall, pres)"
   ]
  },
  {
   "cell_type": "code",
   "execution_count": 30,
   "metadata": {},
   "outputs": [
    {
     "name": "stdout",
     "output_type": "stream",
     "text": [
      "0.3333333333333333 0.2\n"
     ]
    },
    {
     "data": {
      "text/plain": [
       "[<matplotlib.lines.Line2D at 0x1245138d0>]"
      ]
     },
     "execution_count": 30,
     "metadata": {},
     "output_type": "execute_result"
    },
    {
     "data": {
      "image/png": "[encoded data removed]",
      "text/plain": [
       "<Figure size 432x288 with 1 Axes>"
      ]
     },
     "metadata": {
      "needs_background": "light"
     },
     "output_type": "display_data"
    }
   ],
   "source": [
    "pres = []\n",
    "recall = []\n",
    "for i in np.arange(0, 1, 0.001):\n",
    "    model = lm.RidgeClassifier(alpha = i, class_weight = \"balanced\")\n",
    "    model.fit(X, y)\n",
    "    pred_n = model.predict(validation_set_neg)\n",
    "    pred_p = model.predict(validation_set_pos)\n",
    "    if sum(pred_p) + sum(pred_n) > 0:\n",
    "        pres.append(sum(pred_p)/(sum(pred_p) + sum(pred_n)))\n",
    "        recall.append(sum(pred_p)/len(pred_p))\n",
    "total = [pres[i] + recall[i] for i in range(len(pres))]\n",
    "print(pres[np.argmax(total)], recall[np.argmax(total)])\n",
    "plt.plot(recall, pres)"
   ]
  },
  {
   "cell_type": "code",
   "execution_count": null,
   "metadata": {},
   "outputs": [],
   "source": []
  }
 ],
 "metadata": {
  "kernelspec": {
   "display_name": "Python 3",
   "language": "python",
   "name": "python3"
  },
  "language_info": {
   "codemirror_mode": {
    "name": "ipython",
    "version": 3
   },
   "file_extension": ".py",
   "mimetype": "text/x-python",
   "name": "python",
   "nbconvert_exporter": "python",
   "pygments_lexer": "ipython3",
   "version": "3.7.4"
  }
 },
 "nbformat": 4,
 "nbformat_minor": 2
}
